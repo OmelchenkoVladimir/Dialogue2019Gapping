{
 "cells": [
  {
   "cell_type": "code",
   "execution_count": 1,
   "metadata": {},
   "outputs": [],
   "source": [
    "import numpy as np\n",
    "import pandas as pd\n",
    "\n",
    "import csv\n",
    "\n",
    "from pymorphy2 import MorphAnalyzer"
   ]
  },
  {
   "cell_type": "code",
   "execution_count": 2,
   "metadata": {},
   "outputs": [],
   "source": [
    "test = pd.read_csv('gapping/test.csv', sep = '\\t', quoting = csv.QUOTE_NONE)"
   ]
  },
  {
   "cell_type": "code",
   "execution_count": 3,
   "metadata": {},
   "outputs": [],
   "source": [
    "res = pd.read_csv('results/result.csv', sep = '\\t', quoting = csv.QUOTE_NONE)"
   ]
  },
  {
   "cell_type": "code",
   "execution_count": 4,
   "metadata": {},
   "outputs": [],
   "source": [
    "res['text'] = test['text']  # баг с сохранением в моей модели (сохранялось без quoting'а, поэтому добавлено это)"
   ]
  },
  {
   "cell_type": "code",
   "execution_count": 5,
   "metadata": {},
   "outputs": [],
   "source": [
    "def find_left_part(sent, left_index):\n",
    "    # принимает предложение и левый индекс; возвращает \"левый предикат\"\n",
    "    rres = left_index\n",
    "    bflag = 0\n",
    "    for symbol in sent[:left_index][-1::-1]:\n",
    "        if symbol.isalpha() or symbol.isdigit():\n",
    "            bflag = 1\n",
    "            break\n",
    "        else:\n",
    "            rres = rres - 1\n",
    "    if bflag == 0:\n",
    "        return '-1:-1'\n",
    "    lres = rres\n",
    "    last_digit = 1 if sent[rres].isdigit() else 0 # flag\n",
    "    for symbol in sent[:rres][-1::-1]:\n",
    "        if symbol in ['[', ']', '(', ')', ':', '^', \"'\", '\"']:\n",
    "            break\n",
    "        elif (symbol in [',', '.']) and (last_digit == 0):\n",
    "            break\n",
    "        else:\n",
    "            lres = lres - 1\n",
    "            if symbol.isdigit():\n",
    "                last_digit = 1\n",
    "            else:\n",
    "                last_digit = 0\n",
    "    for symbol in sent[lres:rres]:\n",
    "        if symbol.isalpha() or symbol.isdigit():\n",
    "            break\n",
    "        else:\n",
    "            lres = lres + 1\n",
    "    # далее удаление стартового союза, если такой имеется\n",
    "    text = sent[lres:rres]\n",
    "    cres = lres\n",
    "    word = ''\n",
    "    flag = 0\n",
    "    for char in sent[lres:rres]:\n",
    "        if char.isalpha():\n",
    "            word = word + char\n",
    "            cres = cres + 1\n",
    "        else:\n",
    "            flag = 1\n",
    "            break\n",
    "    if (flag == 1):\n",
    "        morph = MorphAnalyzer()\n",
    "        if morph.parse(word)[0].tag.POS == 'CONJ':\n",
    "            lres = cres\n",
    "            for symbol in sent[lres:rres]:\n",
    "                if symbol.isalpha() or symbol.isdigit():\n",
    "                    break\n",
    "                else:\n",
    "                    lres = lres + 1\n",
    "    return f\"{lres}:{rres}\""
   ]
  },
  {
   "cell_type": "code",
   "execution_count": 6,
   "metadata": {},
   "outputs": [],
   "source": [
    "def find_right_part(sent, right_index):\n",
    "    lres = right_index + 1\n",
    "    bflag = 0\n",
    "    for symbol in sent[lres:]:\n",
    "        if symbol.isalpha() or symbol.isdigit():\n",
    "            bflag = 1\n",
    "            break\n",
    "        else:\n",
    "            lres = lres + 1\n",
    "    if bflag == 0:\n",
    "        return '-1:-1'\n",
    "    rres = lres\n",
    "    if lres == 0:\n",
    "        last_dsep = 0\n",
    "    else:\n",
    "        last_dsep = 1 if (sent[lres-1] == ',' or sent[lres-1] == '.') else 0 # flag\n",
    "    for symbol in sent[lres:]:\n",
    "        if last_dsep == 1:\n",
    "            if not symbol.isdigit():\n",
    "                break\n",
    "            else:\n",
    "                rres = rres + 1\n",
    "        if symbol in ['[', ']', '(', ')', ':', '^', \"'\", '\"']:\n",
    "            break\n",
    "        elif symbol in [',', '.']:\n",
    "            last_dsep = 1\n",
    "        else:\n",
    "            rres = rres + 1\n",
    "            last_dsep = 0\n",
    "    for symbol in sent[lres:rres][-1::-1]:\n",
    "        if symbol.isalpha() or symbol.isdigit():\n",
    "            break\n",
    "        else:\n",
    "            rres = rres - 1\n",
    "    return f\"{lres}:{rres}\""
   ]
  },
  {
   "cell_type": "code",
   "execution_count": 7,
   "metadata": {},
   "outputs": [],
   "source": [
    "def find_r(row):\n",
    "    if row['class'] == 0:\n",
    "        row['cR1'] = '-1:-1'\n",
    "        row['cR2'] = '-1:-1'\n",
    "        row['R1'] = '-1:-1'\n",
    "        row['R2'] = '-1:-1'\n",
    "    else:\n",
    "        res_r1 = ''\n",
    "        res_r2 = ''\n",
    "        for v_range in row['V'].strip().split(' '):\n",
    "            res_r1 = res_r1 + find_left_part(row['text'], int(v_range.split(':')[0])) + ' '\n",
    "            res_r2 = res_r2 + find_right_part(row['text'], int(v_range.split(':')[1]) - 1) + ' '\n",
    "        row['cR1'] = find_left_part(row['text'], int(row['cV'].split(':')[0]))\n",
    "        row['cR2'] = find_right_part(row['text'], int(row['cV'].split(':')[1]))\n",
    "        row['R1'] = res_r1\n",
    "        row['R2'] = res_r2\n",
    "    return row"
   ]
  },
  {
   "cell_type": "code",
   "execution_count": 8,
   "metadata": {},
   "outputs": [],
   "source": [
    "res = res.apply(find_r, axis = 1)"
   ]
  },
  {
   "cell_type": "code",
   "execution_count": 9,
   "metadata": {},
   "outputs": [],
   "source": [
    "res[['text', 'class', 'cV', 'cR1', 'cR2', 'V', 'R1', 'R2']].to_csv('results/final_result.csv', sep = '\\t', index = None, quoting=csv.QUOTE_NONE)"
   ]
  },
  {
   "cell_type": "code",
   "execution_count": null,
   "metadata": {},
   "outputs": [],
   "source": []
  }
 ],
 "metadata": {
  "kernelspec": {
   "display_name": "Python 3",
   "language": "python",
   "name": "python3"
  },
  "language_info": {
   "codemirror_mode": {
    "name": "ipython",
    "version": 3
   },
   "file_extension": ".py",
   "mimetype": "text/x-python",
   "name": "python",
   "nbconvert_exporter": "python",
   "pygments_lexer": "ipython3",
   "version": "3.7.2"
  }
 },
 "nbformat": 4,
 "nbformat_minor": 2
}
